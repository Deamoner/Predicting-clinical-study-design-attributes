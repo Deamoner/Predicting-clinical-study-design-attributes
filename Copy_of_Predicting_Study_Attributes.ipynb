{
  "nbformat": 4,
  "nbformat_minor": 0,
  "metadata": {
    "colab": {
      "name": "Copy of Predicting Study Attributes.ipynb",
      "provenance": [],
      "collapsed_sections": [],
      "toc_visible": true,
      "include_colab_link": true
    },
    "kernelspec": {
      "name": "python3",
      "display_name": "Python 3"
    }
  },
  "cells": [
    {
      "cell_type": "markdown",
      "metadata": {
        "id": "view-in-github",
        "colab_type": "text"
      },
      "source": [
        "<a href=\"https://colab.research.google.com/github/Deamoner/Predicting-clinical-study-design-attributes/blob/master/Copy_of_Predicting_Study_Attributes.ipynb\" target=\"_parent\"><img src=\"https://colab.research.google.com/assets/colab-badge.svg\" alt=\"Open In Colab\"/></a>"
      ]
    },
    {
      "cell_type": "markdown",
      "metadata": {
        "id": "gwhHfLOcWO2Z",
        "colab_type": "text"
      },
      "source": [
        "# Predicting Study Attributes for Clinical Trial Studies \n",
        "\n",
        "Here we are going to use some open clinical trial datasets and studies in relation to the covid-19 to be able to determine the study attributes. \n",
        "\n",
        "For time savings we are assuming the articles and studies ahave already been indexed into sections that are available for data access. \n",
        "\n",
        "What needs to be done:\n",
        "\n",
        "\n",
        "1.   Import SQL Data of all articles - Maybe I can port over the import?\n",
        "2.   Second off the code for attribute extraction per section and the review of prediction and smooth out for sample size.\n",
        "\n"
      ]
    },
    {
      "cell_type": "markdown",
      "metadata": {
        "id": "35wUhAajj4p4",
        "colab_type": "text"
      },
      "source": [
        "#Importing the SQLLite Database \n",
        "Please note that all of these articles are from https://www.semanticscholar.org/cord19 and can be found there. \n",
        "\n",
        "Heavy ETL process was done on this dataset to get it into this usable format. But for the purposes of this notebook we will forgo that process and start off with the data. "
      ]
    },
    {
      "cell_type": "code",
      "metadata": {
        "id": "gHnMdm23bssL",
        "colab_type": "code",
        "outputId": "6a078d1e-23ad-4ea9-ad70-4035533da5ca",
        "colab": {
          "base_uri": "https://localhost:8080/",
          "height": 122
        }
      },
      "source": [
        "#Google Auth and import the ID \n",
        "# Give link to the file if anyone else needs it\n",
        "from google.colab import drive\n",
        "drive.mount('/content/gdrive')\n",
        "\n",
        "\n"
      ],
      "execution_count": 0,
      "outputs": [
        {
          "output_type": "stream",
          "text": [
            "Go to this URL in a browser: https://accounts.google.com/o/oauth2/auth?client_id=947318989803-6bn6qk8qdgf4n4g3pfee6491hc0brc4i.apps.googleusercontent.com&redirect_uri=urn%3aietf%3awg%3aoauth%3a2.0%3aoob&response_type=code&scope=email%20https%3a%2f%2fwww.googleapis.com%2fauth%2fdocs.test%20https%3a%2f%2fwww.googleapis.com%2fauth%2fdrive%20https%3a%2f%2fwww.googleapis.com%2fauth%2fdrive.photos.readonly%20https%3a%2f%2fwww.googleapis.com%2fauth%2fpeopleapi.readonly\n",
            "\n",
            "Enter your authorization code:\n",
            "··········\n",
            "Mounted at /content/gdrive\n"
          ],
          "name": "stdout"
        }
      ]
    },
    {
      "cell_type": "markdown",
      "metadata": {
        "id": "XbZat7N9lW7i",
        "colab_type": "text"
      },
      "source": [
        "#Load the pretrained modules for the attributes tagging data\n",
        "First we load the annotated data for retraining \n",
        "Repo for that: https://github.com/Deamoner/annotated-clinical-research-study-attribtes-data\n",
        "\n",
        "For our purposes the pretrained models are present already for testing. \n"
      ]
    },
    {
      "cell_type": "code",
      "metadata": {
        "id": "HFDj3tYorEjj",
        "colab_type": "code",
        "outputId": "754b7587-ca5b-474e-aad4-84013b43f479",
        "colab": {
          "base_uri": "https://localhost:8080/",
          "height": 435
        }
      },
      "source": [
        "from design import Design\n",
        " "
      ],
      "execution_count": 0,
      "outputs": [
        {
          "output_type": "error",
          "ename": "ImportError",
          "evalue": "ignored",
          "traceback": [
            "\u001b[0;31m---------------------------------------------------------------------------\u001b[0m",
            "\u001b[0;31mImportError\u001b[0m                               Traceback (most recent call last)",
            "\u001b[0;32m<ipython-input-6-5c09c7a49da1>\u001b[0m in \u001b[0;36m<module>\u001b[0;34m()\u001b[0m\n\u001b[0;32m----> 1\u001b[0;31m \u001b[0;32mfrom\u001b[0m \u001b[0mdesign\u001b[0m \u001b[0;32mimport\u001b[0m \u001b[0mDesign\u001b[0m\u001b[0;34m\u001b[0m\u001b[0;34m\u001b[0m\u001b[0m\n\u001b[0m\u001b[1;32m      2\u001b[0m \u001b[0;34m\u001b[0m\u001b[0m\n",
            "\u001b[0;32m/content/design.py\u001b[0m in \u001b[0;36m<module>\u001b[0;34m()\u001b[0m\n\u001b[1;32m     24\u001b[0m \u001b[0;32mfrom\u001b[0m \u001b[0msklearn\u001b[0m\u001b[0;34m.\u001b[0m\u001b[0mensemble\u001b[0m \u001b[0;32mimport\u001b[0m \u001b[0mRandomForestClassifier\u001b[0m\u001b[0;34m\u001b[0m\u001b[0;34m\u001b[0m\u001b[0m\n\u001b[1;32m     25\u001b[0m \u001b[0;34m\u001b[0m\u001b[0m\n\u001b[0;32m---> 26\u001b[0;31m \u001b[0;32mfrom\u001b[0m \u001b[0;34m.\u001b[0m\u001b[0;34m.\u001b[0m\u001b[0mmodels\u001b[0m \u001b[0;32mimport\u001b[0m \u001b[0mModels\u001b[0m\u001b[0;34m\u001b[0m\u001b[0;34m\u001b[0m\u001b[0m\n\u001b[0m\u001b[1;32m     27\u001b[0m \u001b[0;34m\u001b[0m\u001b[0m\n\u001b[1;32m     28\u001b[0m \u001b[0;32mfrom\u001b[0m \u001b[0;34m.\u001b[0m\u001b[0mstudy\u001b[0m \u001b[0;32mimport\u001b[0m \u001b[0mStudyModel\u001b[0m\u001b[0;34m\u001b[0m\u001b[0;34m\u001b[0m\u001b[0m\n",
            "\u001b[0;31mImportError\u001b[0m: attempted relative import with no known parent package",
            "",
            "\u001b[0;31m---------------------------------------------------------------------------\u001b[0;32m\nNOTE: If your import is failing due to a missing package, you can\nmanually install dependencies using either !pip or !apt.\n\nTo view examples of installing some common dependencies, click the\n\"Open Examples\" button below.\n\u001b[0;31m---------------------------------------------------------------------------\u001b[0m\n"
          ]
        }
      ]
    }
  ]
}